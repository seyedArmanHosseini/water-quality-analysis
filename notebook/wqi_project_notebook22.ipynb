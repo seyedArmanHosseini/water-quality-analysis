{
 "cells": [
  {
   "cell_type": "markdown",
   "id": "1110c7d9",
   "metadata": {},
   "source": [
    "# Water Quality Index Prediction\n",
    "This notebook contains code for loading the dataset and building a model."
   ]
  },
  {
   "cell_type": "code",
   "execution_count": null,
   "id": "619fbb75",
   "metadata": {},
   "outputs": [],
   "source": [
    "import pandas as pd\n",
    "import matplotlib.pyplot as plt\n",
    "import seaborn as sns"
   ]
  },
  {
   "cell_type": "code",
   "execution_count": null,
   "id": "2416dd81",
   "metadata": {},
   "outputs": [],
   "source": [
    "# Load the dataset\n",
    "df = pd.read_csv('data/water_quality_data.csv')\n",
    "df.head()"
   ]
  }
 ],
 "metadata": {},
 "nbformat": 4,
 "nbformat_minor": 5
}
